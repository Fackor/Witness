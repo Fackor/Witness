{
 "cells": [
  {
   "cell_type": "code",
   "execution_count": 5,
   "metadata": {},
   "outputs": [],
   "source": [
    "class witness:\n",
    "    '''\n",
    "    this class requires numpy to function\n",
    "    '''\n",
    "    import numpy as np\n",
    "    \n",
    "    def __init__(self, S, A, R, T, O, gamma):\n",
    "        '''\n",
    "        This is the __init__ method, which takes in the standard POMDP\n",
    "        tuple and converts the information contained in them into useful\n",
    "        data structures.\n",
    "        \n",
    "        S, A, R, T, O are all np.ndarrays of appropriate size\n",
    "        gamma is the discount factor\n",
    "        \n",
    "        all the functions used here are to be defined later\n",
    "        \n",
    "        further documentation to be added\n",
    "        '''\n",
    "        self.states = create_states(S)\n",
    "        self.actions = create_actions(A)\n",
    "        self.rewards = create_rewards(R)\n",
    "        self.transitions = create_transitions(T)\n",
    "        self.observations = create_observations(O)\n",
    "        self.gamma = gamma\n",
    "    \n",
    "    def get_transition(state_now, action, state_next):\n",
    "        '''\n",
    "        this function will return the probability of transition \n",
    "        '''\n",
    "\n",
    "        #to be defined based on the problem\n",
    "    \n",
    "    "
   ]
  },
  {
   "cell_type": "code",
   "execution_count": null,
   "metadata": {},
   "outputs": [],
   "source": [
    "\n"
   ]
  }
 ],
 "metadata": {
  "kernelspec": {
   "display_name": "Python 3",
   "language": "python",
   "name": "python3"
  },
  "language_info": {
   "codemirror_mode": {
    "name": "ipython",
    "version": 3
   },
   "file_extension": ".py",
   "mimetype": "text/x-python",
   "name": "python",
   "nbconvert_exporter": "python",
   "pygments_lexer": "ipython3",
   "version": "3.6.9"
  }
 },
 "nbformat": 4,
 "nbformat_minor": 2
}
